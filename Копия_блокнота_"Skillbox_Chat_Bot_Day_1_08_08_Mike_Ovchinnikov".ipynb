{
  "nbformat": 4,
  "nbformat_minor": 0,
  "metadata": {
    "colab": {
      "name": "Копия блокнота \"Skillbox Chat Bot Day 1: 08/08 - Mike Ovchinnikov\"",
      "provenance": [],
      "collapsed_sections": [],
      "include_colab_link": true
    },
    "kernelspec": {
      "name": "python3",
      "display_name": "Python 3"
    },
    "language_info": {
      "name": "python"
    }
  },
  "cells": [
    {
      "cell_type": "markdown",
      "metadata": {
        "id": "view-in-github",
        "colab_type": "text"
      },
      "source": [
        "<a href=\"https://colab.research.google.com/github/vbayda-kzn/Learn_CS/blob/main/%D0%9A%D0%BE%D0%BF%D0%B8%D1%8F_%D0%B1%D0%BB%D0%BE%D0%BA%D0%BD%D0%BE%D1%82%D0%B0_%22Skillbox_Chat_Bot_Day_1_08_08_Mike_Ovchinnikov%22.ipynb\" target=\"_parent\"><img src=\"https://colab.research.google.com/assets/colab-badge.svg\" alt=\"Open In Colab\"/></a>"
      ]
    },
    {
      "cell_type": "markdown",
      "source": [
        "# День 1\n",
        "*   Язык Python\n",
        "*   Архитектура чат ботов"
      ],
      "metadata": {
        "id": "ppsIrKbyJDTJ"
      }
    },
    {
      "cell_type": "markdown",
      "source": [
        "# ВЕРСИЯ 1\n",
        "#### Наш первый Чат-бот, поздоровайтесь\n",
        "`{Вопрос на входе}` => `{Алгоритм ответа}` => `{Ответ на выходе}`\n",
        "\n",
        "---\n",
        "Простейший алгоритм — это поиск по базе известных вопросов и ответов.\n"
      ],
      "metadata": {
        "id": "mW1tlQcAJRmA"
      }
    },
    {
      "cell_type": "code",
      "source": [
        "import random"
      ],
      "metadata": {
        "id": "jHwSOC-8InIo"
      },
      "execution_count": null,
      "outputs": []
    },
    {
      "cell_type": "code",
      "execution_count": null,
      "metadata": {
        "colab": {
          "base_uri": "https://localhost:8080/"
        },
        "id": "ePQvZ6EHH75B",
        "outputId": "0342fff3-e1fa-44f6-eb23-a3c49459b306"
      },
      "outputs": [
        {
          "output_type": "stream",
          "name": "stdout",
          "text": [
            "Здарова\n",
            "Здрасте\n"
          ]
        }
      ],
      "source": [
        "text = input()\n",
        "if text in [\"Привет\", \"Здарова\", \"Хеллоу\"]:\n",
        "  print(random.choice([\"Здрасте\", \"Йоу\", \"Приветики\"]))\n",
        "elif text in [\"Пока\", \"Увидимся\", \"Чао\"]:\n",
        "  print(random.choice([\"Буду ждать нашей встречи\", \"Ок\", \"Бай-бай\"]))\n",
        "else:\n",
        "  print(\"Не понял\")\n",
        "\n",
        "\n",
        "# input = ввод данных от пользователя\n",
        "# random.choice = выбор случайного элемента из списка\n",
        "# print = вывод на экран"
      ]
    },
    {
      "cell_type": "markdown",
      "source": [
        "# Алгоритм ответа\n",
        "1.   Если вопрос это что-то типа \"*Привет*\" или \"*Здарова*\" ну или там \"*Хеллоу*\"\n",
        "2.   То ответить случайной фразой вроде \"**Йоу**\", \"**Приветики**\" или \"**Здрасте**\""
      ],
      "metadata": {
        "id": "tysEo2EaLV9V"
      }
    },
    {
      "cell_type": "markdown",
      "source": [
        "# Определение \"намерения\" пользователя (англ. intent, интент)"
      ],
      "metadata": {
        "id": "Ue7KMxxnCRty"
      }
    },
    {
      "cell_type": "code",
      "source": [
        "# Составим карты \"намерений\", которые поддерживает наш бот\n",
        "INTENTS = {\n",
        "    \"hello\": {\n",
        "        \"examples\": [\"Привет\", \"Здарова\", \"Хеллоу\"],  # То, что пишет пользователь\n",
        "        \"responses\": [\"Здрасте\", \"Йоу\", \"Приветики\"], # То, что отвечает бот \n",
        "    },\n",
        "    \"how_do_yo_do\": {\n",
        "        \"examples\": [\"Как дела\", \"Чем занят\", \"Чо по чем\"],\n",
        "        \"responses\": [\"Функционирую в пределах заданных параметров\", \"Все ок\", \"Отвечаю на тупые вопросы\"],\n",
        "    },\n",
        "    \"your_name\": {\n",
        "        \"examples\": [\"Как твое имя\", \"Как тебя зовут\", \"Ты хто\"],\n",
        "        \"responses\": [\"Мое Имя СкиллЧатБот5000\", \"Хайзенберг\"],\n",
        "    },\n",
        "    \"profession\": {\n",
        "        \"examples\": [\"Превысокомногорассмотрительствующий оториноларинголог\"],\n",
        "        \"responses\": [\"WTF?!\"],\n",
        "    }\n",
        "    # ...\n",
        "}"
      ],
      "metadata": {
        "id": "m1Y2iyVSCFLx"
      },
      "execution_count": null,
      "outputs": []
    },
    {
      "cell_type": "code",
      "source": [
        "text = input()\n",
        "# Для каждого намерения в списке намерений\n",
        "for intent in INTENTS:\n",
        "    examples = INTENTS[intent][\"examples\"]  # Получить список фраз\n",
        "    responses = INTENTS[intent][\"responses\"]  # Получить список ответов\n",
        "    # Каждый пример из examples сравниваем с текстом\n",
        "    for example in examples:\n",
        "        if text_match(text, example):\n",
        "            print(random.choice(responses))\n",
        "    # if text in examples:\n",
        "    #     print(random.choice(responses))"
      ],
      "metadata": {
        "colab": {
          "base_uri": "https://localhost:8080/"
        },
        "id": "p_iXu8cqUi87",
        "outputId": "4ae19a32-f35b-4291-f1de-5e90cc54cbac"
      },
      "execution_count": null,
      "outputs": [
        {
          "output_type": "stream",
          "name": "stdout",
          "text": [
            "Ты хто друг?\n",
            "Хайзенберг\n"
          ]
        }
      ]
    },
    {
      "cell_type": "markdown",
      "source": [
        "Сложность — в том чтобы сравнить **Текст Пользователя** и текст в программе."
      ],
      "metadata": {
        "id": "26m8fK1GN4m3"
      }
    },
    {
      "cell_type": "code",
      "source": [
        "import re # Подключаем библиотеку для работы с регулярными выражениями\n",
        "import nltk \n",
        "def filter_text(text):\n",
        "    # Пробелы (\" Привет\", \"Привет     \")    \n",
        "    text = text.strip()\n",
        "    # Знаки препинания (\"Привет!!!!\")\n",
        "    expression = r'[^\\w\\s]'  # Регулярное выражение = \"Все что не слово(\\w) и не пробел(\\s)\"\n",
        "    text = re.sub(expression, \"\", text)  # sub (substitute = заменить) \"Все что не слово(\\w) и не пробел(\\s)\" на пустоту \"\" в text\n",
        "    return text\n",
        "\n",
        "\n",
        "# Не забывайте выполнять ячейку заново после изменений (Shift+Enter)\n",
        "def text_match(user_text, example):\n",
        "    user_text = user_text.lower() # Приводим текст к нижнему регистру\n",
        "    example = example.lower()\n",
        "\n",
        "    user_text = filter_text(user_text) # Фильтруем пользовательский ввод\n",
        "\n",
        "    if user_text.find(example) != -1:\n",
        "        # Фраза example НАЙДЕНА в user_text\n",
        "        return True\n",
        "\n",
        "    text_len = len(user_text)  # Узнаем длину текста\n",
        "    difference = nltk.edit_distance(user_text, example) / text_len  #  0 .. 1\n",
        "\n",
        "    return difference < 0.4"
      ],
      "metadata": {
        "id": "v68CYBmmMwwu"
      },
      "execution_count": null,
      "outputs": []
    },
    {
      "cell_type": "code",
      "source": [
        "# Тексты совпадают\n",
        "text_match(\"Привет\", \"Привет\")  "
      ],
      "metadata": {
        "colab": {
          "base_uri": "https://localhost:8080/"
        },
        "id": "Y_v5venhNDey",
        "outputId": "b7538e17-fc67-4863-e82e-02f3bd9ac98e"
      },
      "execution_count": null,
      "outputs": [
        {
          "output_type": "execute_result",
          "data": {
            "text/plain": [
              "True"
            ]
          },
          "metadata": {},
          "execution_count": 53
        }
      ]
    },
    {
      "cell_type": "code",
      "source": [
        "# Разный регистр (ToDo: lower)\n",
        "text_match(\"привет\", \"Привет\")"
      ],
      "metadata": {
        "colab": {
          "base_uri": "https://localhost:8080/"
        },
        "id": "mCkXZGN7NCxm",
        "outputId": "6107d2cc-59bc-44f4-e0d7-444606f14790"
      },
      "execution_count": null,
      "outputs": [
        {
          "output_type": "execute_result",
          "data": {
            "text/plain": [
              "True"
            ]
          },
          "metadata": {},
          "execution_count": 54
        }
      ]
    },
    {
      "cell_type": "code",
      "source": [
        "# Лишние символы (ToDo: regular expressions)\n",
        "text_match(\"Привет!!!=)\", \"Привет\")  "
      ],
      "metadata": {
        "colab": {
          "base_uri": "https://localhost:8080/"
        },
        "id": "XyYl1qxJOWfE",
        "outputId": "645293c4-63f6-4798-86ef-66f8f6807e9c"
      },
      "execution_count": null,
      "outputs": [
        {
          "output_type": "execute_result",
          "data": {
            "text/plain": [
              "True"
            ]
          },
          "metadata": {},
          "execution_count": 55
        }
      ]
    },
    {
      "cell_type": "code",
      "source": [
        "# Лишние слова (ToDo: find)\n",
        "text_match(\"Привет, как дела\", \"Привет\")  "
      ],
      "metadata": {
        "colab": {
          "base_uri": "https://localhost:8080/"
        },
        "id": "ElasFTAKOW8g",
        "outputId": "64324996-94b8-4a3b-d39b-585de450615b"
      },
      "execution_count": null,
      "outputs": [
        {
          "output_type": "execute_result",
          "data": {
            "text/plain": [
              "True"
            ]
          },
          "metadata": {},
          "execution_count": 56
        }
      ]
    },
    {
      "cell_type": "code",
      "source": [
        "# Опечатки (ToDo: levenstein)\n",
        "text_match(\"Превед\", \"Привет\")"
      ],
      "metadata": {
        "colab": {
          "base_uri": "https://localhost:8080/"
        },
        "id": "d9gU6QhvOY17",
        "outputId": "9dc7eacf-d34e-4f6b-8ec6-e1d17a6d3bbd"
      },
      "execution_count": null,
      "outputs": [
        {
          "output_type": "execute_result",
          "data": {
            "text/plain": [
              "True"
            ]
          },
          "metadata": {},
          "execution_count": 57
        }
      ]
    },
    {
      "cell_type": "markdown",
      "source": [
        "# День 2\n"
      ],
      "metadata": {
        "id": "hSSID1qhTRst"
      }
    },
    {
      "cell_type": "markdown",
      "source": [
        "# Классификация текстов ML-моделью\n"
      ],
      "metadata": {
        "id": "pqqsdYVxRC4w"
      }
    },
    {
      "cell_type": "code",
      "source": [
        ""
      ],
      "metadata": {
        "id": "IekZ2-zqRHKH"
      },
      "execution_count": null,
      "outputs": []
    },
    {
      "cell_type": "markdown",
      "source": [
        "# День 3\n",
        "Бот в Телеграм"
      ],
      "metadata": {
        "id": "MMr2mDwFTVeK"
      }
    },
    {
      "cell_type": "code",
      "source": [
        ""
      ],
      "metadata": {
        "id": "9hPPDSAdTYco"
      },
      "execution_count": null,
      "outputs": []
    }
  ]
}