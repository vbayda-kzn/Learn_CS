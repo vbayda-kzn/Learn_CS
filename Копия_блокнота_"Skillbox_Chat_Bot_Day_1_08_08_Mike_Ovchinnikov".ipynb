{
  "nbformat": 4,
  "nbformat_minor": 0,
  "metadata": {
    "colab": {
      "name": "Копия блокнота \"Skillbox Chat Bot Day 1: 08/08 - Mike Ovchinnikov\"",
      "provenance": [],
      "collapsed_sections": [],
      "include_colab_link": true
    },
    "kernelspec": {
      "name": "python3",
      "display_name": "Python 3"
    },
    "language_info": {
      "name": "python"
    }
  },
  "cells": [
    {
      "cell_type": "markdown",
      "metadata": {
        "id": "view-in-github",
        "colab_type": "text"
      },
      "source": [
        "<a href=\"https://colab.research.google.com/github/vbayda-kzn/Learn_CS/blob/main/%D0%9A%D0%BE%D0%BF%D0%B8%D1%8F_%D0%B1%D0%BB%D0%BE%D0%BA%D0%BD%D0%BE%D1%82%D0%B0_%22Skillbox_Chat_Bot_Day_1_08_08_Mike_Ovchinnikov%22.ipynb\" target=\"_parent\"><img src=\"https://colab.research.google.com/assets/colab-badge.svg\" alt=\"Open In Colab\"/></a>"
      ]
    },
    {
      "cell_type": "markdown",
      "source": [
        "# День 1\n",
        "*   Язык Python\n",
        "*   Архитектура чат ботов"
      ],
      "metadata": {
        "id": "ppsIrKbyJDTJ"
      }
    },
    {
      "cell_type": "markdown",
      "source": [
        "# ВЕРСИЯ 1\n",
        "#### Наш первый Чат-бот, поздоровайтесь\n",
        "`{Вопрос на входе}` => `{Алгоритм ответа}` => `{Ответ на выходе}`\n",
        "\n",
        "---\n",
        "Простейший алгоритм — это поиск по базе известных вопросов и ответов.\n"
      ],
      "metadata": {
        "id": "mW1tlQcAJRmA"
      }
    },
    {
      "cell_type": "code",
      "source": [
        "import random"
      ],
      "metadata": {
        "id": "jHwSOC-8InIo"
      },
      "execution_count": null,
      "outputs": []
    },
    {
      "cell_type": "code",
      "execution_count": null,
      "metadata": {
        "colab": {
          "base_uri": "https://localhost:8080/"
        },
        "id": "ePQvZ6EHH75B",
        "outputId": "313221dd-1f10-492f-a66b-989b759e8e3c"
      },
      "outputs": [
        {
          "output_type": "stream",
          "name": "stdout",
          "text": [
            "Привет\n",
            "Йоу\n"
          ]
        }
      ],
      "source": [
        "text = input()\n",
        "if text in [\"Привет\", \"Здарова\", \"Хеллоу\"]:\n",
        "  print(random.choice([\"Здрасте\", \"Йоу\", \"Приветики\"]))\n",
        "elif text in [\"Пока\", \"Увидимся\", \"Чао\"]:\n",
        "  print(random.choice([\"Буду ждать нашей встречи\", \"Ок\", \"Бай-бай\"]))\n",
        "else:\n",
        "  print(\"Не понял\")\n",
        "\n",
        "\n",
        "# input = ввод данных от пользователя\n",
        "# random.choice = выбор случайного элемента из списка\n",
        "# print = вывод на экран"
      ]
    },
    {
      "cell_type": "markdown",
      "source": [
        "# Алгоритм ответа\n",
        "1.   Если вопрос это что-то типа \"*Привет*\" или \"*Здарова*\" ну или там \"*Хеллоу*\"\n",
        "2.   То ответить случайной фразой вроде \"**Йоу**\", \"**Приветики**\" или \"**Здрасте**\""
      ],
      "metadata": {
        "id": "tysEo2EaLV9V"
      }
    },
    {
      "cell_type": "markdown",
      "source": [
        "# Определение \"намерения\" пользователя (англ. intent, интент)"
      ],
      "metadata": {
        "id": "Ue7KMxxnCRty"
      }
    },
    {
      "cell_type": "code",
      "source": [
        "# Составим карты \"намерений\", которые поддерживает наш бот\n",
        "INTENTS = {\n",
        "    \"hello\": {\n",
        "        \"examples\": [\"Привет\", \"Здарова\", \"Хеллоу\"],  # То, что пишет пользователь\n",
        "        \"responses\": [\"Здрасте\", \"Йоу\", \"Приветики\"], # То, что отвечает бот \n",
        "    },\n",
        "    \"how_do_yo_do\": {\n",
        "        \"examples\": [\"Как дела\", \"Чем занят\", \"Чо по чем\"],\n",
        "        \"responses\": [\"Функционирую в пределах заданных параметров\", \"Все ок\", \"Отвечаю на тупые вопросы\"],\n",
        "    },\n",
        "    \"your_name\": {\n",
        "        \"examples\": [\"Как твое имя\", \"Как тебя зовут\", \"Ты хто\"],\n",
        "        \"responses\": [\"Мое Имя СкиллЧатБот5000\", \"Хайзенберг\"],\n",
        "    },\n",
        "    \"profession\": {\n",
        "        \"examples\": [\"Превысокомногорассмотрительствующий оториноларинголог\"],\n",
        "        \"responses\": [\"WTF?!\"],\n",
        "    }\n",
        "    # ...\n",
        "}"
      ],
      "metadata": {
        "id": "m1Y2iyVSCFLx"
      },
      "execution_count": null,
      "outputs": []
    },
    {
      "cell_type": "code",
      "source": [
        "text = input()\n",
        "# Для каждого намерения в списке намерений\n",
        "for intent in INTENTS:\n",
        "    examples = INTENTS[intent][\"examples\"]  # Получить список фраз\n",
        "    responses = INTENTS[intent][\"responses\"]  # Получить список ответов\n",
        "    # Каждый пример из examples сравниваем с текстом\n",
        "    for example in examples:\n",
        "        if text_match(text, example):\n",
        "            print(random.choice(responses))\n",
        "    # if text in examples:\n",
        "    #     print(random.choice(responses))"
      ],
      "metadata": {
        "id": "p_iXu8cqUi87"
      },
      "execution_count": null,
      "outputs": []
    },
    {
      "cell_type": "markdown",
      "source": [
        "Сложность — в том чтобы сравнить **Текст Пользователя** и текст в программе."
      ],
      "metadata": {
        "id": "26m8fK1GN4m3"
      }
    },
    {
      "cell_type": "code",
      "source": [
        "import re # Подключаем библиотеку для работы с регулярными выражениями\n",
        "import nltk \n",
        "def filter_text(text):\n",
        "    # Пробелы (\" Привет\", \"Привет     \")    \n",
        "    text = text.strip()\n",
        "    # Знаки препинания (\"Привет!!!!\")\n",
        "    expression = r'[^\\w\\s]'  # Регулярное выражение = \"Все что не слово(\\w) и не пробел(\\s)\"\n",
        "    text = re.sub(expression, \"\", text)  # sub (substitute = заменить) \"Все что не слово(\\w) и не пробел(\\s)\" на пустоту \"\" в text\n",
        "    return text\n",
        "\n",
        "\n",
        "# Не забывайте выполнять ячейку заново после изменений (Shift+Enter)\n",
        "def text_match(user_text, example):\n",
        "    user_text = user_text.lower() # Приводим текст к нижнему регистру\n",
        "    example = example.lower()\n",
        "\n",
        "    user_text = filter_text(user_text) # Фильтруем пользовательский ввод\n",
        "    \n",
        "    text_len = len(user_text)  # Узнаем длину текста\n",
        "\n",
        "    if text_len == 0 or len(example) == 0:  # Если один из текстов пустой - просто считаем что они не совпадают\n",
        "        return False\n",
        "\n",
        "    if user_text.find(example) != -1:\n",
        "        # Фраза example НАЙДЕНА в user_text\n",
        "        return True\n",
        "\n",
        "    difference = nltk.edit_distance(user_text, example) / text_len  #  0 .. 1\n",
        "\n",
        "    return difference < 0.4"
      ],
      "metadata": {
        "id": "v68CYBmmMwwu"
      },
      "execution_count": null,
      "outputs": []
    },
    {
      "cell_type": "code",
      "source": [
        "# Тексты совпадают\n",
        "text_match(\"Привет\", \"Привет\")  "
      ],
      "metadata": {
        "colab": {
          "base_uri": "https://localhost:8080/"
        },
        "id": "Y_v5venhNDey",
        "outputId": "429f0ecf-fcf1-459e-c21f-427d3fc04bf8"
      },
      "execution_count": null,
      "outputs": [
        {
          "output_type": "execute_result",
          "data": {
            "text/plain": [
              "True"
            ]
          },
          "metadata": {},
          "execution_count": 10
        }
      ]
    },
    {
      "cell_type": "code",
      "source": [
        "# Разный регистр (ToDo: lower)\n",
        "text_match(\"привет\", \"Привет\")"
      ],
      "metadata": {
        "colab": {
          "base_uri": "https://localhost:8080/"
        },
        "id": "mCkXZGN7NCxm",
        "outputId": "bab1dd4e-1b33-401f-f5ae-81055aaa244b"
      },
      "execution_count": null,
      "outputs": [
        {
          "output_type": "execute_result",
          "data": {
            "text/plain": [
              "True"
            ]
          },
          "metadata": {},
          "execution_count": 11
        }
      ]
    },
    {
      "cell_type": "code",
      "source": [
        "# Лишние символы (ToDo: regular expressions)\n",
        "text_match(\"Привет!!!=)\", \"Привет\")  "
      ],
      "metadata": {
        "colab": {
          "base_uri": "https://localhost:8080/"
        },
        "id": "XyYl1qxJOWfE",
        "outputId": "ceab4e36-e77a-403f-bd80-a9f7232486f4"
      },
      "execution_count": null,
      "outputs": [
        {
          "output_type": "execute_result",
          "data": {
            "text/plain": [
              "True"
            ]
          },
          "metadata": {},
          "execution_count": 12
        }
      ]
    },
    {
      "cell_type": "code",
      "source": [
        "# Лишние слова (ToDo: find)\n",
        "text_match(\"Привет, как дела\", \"Привет\")  "
      ],
      "metadata": {
        "colab": {
          "base_uri": "https://localhost:8080/"
        },
        "id": "ElasFTAKOW8g",
        "outputId": "3f4b0748-0028-4bec-b513-4d6e5e31243c"
      },
      "execution_count": null,
      "outputs": [
        {
          "output_type": "execute_result",
          "data": {
            "text/plain": [
              "True"
            ]
          },
          "metadata": {},
          "execution_count": 13
        }
      ]
    },
    {
      "cell_type": "code",
      "source": [
        "# Опечатки (ToDo: levenstein)\n",
        "text_match(\"Превед\", \"Привет\")"
      ],
      "metadata": {
        "colab": {
          "base_uri": "https://localhost:8080/"
        },
        "id": "d9gU6QhvOY17",
        "outputId": "d1f25901-2aa1-4926-fc4f-93aa71404307"
      },
      "execution_count": null,
      "outputs": [
        {
          "output_type": "execute_result",
          "data": {
            "text/plain": [
              "True"
            ]
          },
          "metadata": {},
          "execution_count": 14
        }
      ]
    },
    {
      "cell_type": "markdown",
      "source": [
        "# День 2\n"
      ],
      "metadata": {
        "id": "hSSID1qhTRst"
      }
    },
    {
      "cell_type": "markdown",
      "source": [
        "# Классификация текстов ML-моделью\n",
        "\n",
        "Файл с данными: https://drive.google.com/file/d/1_L5CYGsO58zkB3LMBG73ezIEwYFD07Ed/view"
      ],
      "metadata": {
        "id": "pqqsdYVxRC4w"
      }
    },
    {
      "cell_type": "code",
      "source": [
        "# Прочитать файл\n",
        "# Подготовить данные в нем для классификации (???)\n",
        "# Выбрать и настроить модель МО\n",
        "# Обучаем, и проверить качество получившейся модели\n",
        "\n",
        "# Зачем? Чтобы понять что от нас хочет человек"
      ],
      "metadata": {
        "id": "IekZ2-zqRHKH"
      },
      "execution_count": null,
      "outputs": []
    },
    {
      "cell_type": "code",
      "source": [
        "import json\n",
        "\n",
        "with open(\"/content/big_bot_config.json\", \"r\") as config_file:  # Открыть файл для чтения\n",
        "    DATA = json.load(config_file)  # Загрузить данные из файла\n",
        "\n",
        "INTENTS = DATA[\"intents\"]"
      ],
      "metadata": {
        "id": "EffSvOjcX0vu"
      },
      "execution_count": null,
      "outputs": []
    },
    {
      "cell_type": "code",
      "source": [
        "# Классификация = по объекту (ТЕКСТ) определить его класс (намерение)\n",
        "# SKLEARN = https://scikit-learn.org/stable/modules/classes.html#module-sklearn.ensemble"
      ],
      "metadata": {
        "id": "ALaHBUpWZNi4"
      },
      "execution_count": null,
      "outputs": []
    },
    {
      "cell_type": "code",
      "source": [
        "# Подготовить данные в нем для классификации \n",
        "# Входные данные X = Тексты \n",
        "# Выходные данные y = Намерение\n",
        "\n",
        "\n",
        "X = [] # Текст\n",
        "y = [] # Намерения (интенты)\n",
        "\n",
        "for name,intent in INTENTS.items():\n",
        "    for phrase in intent[\"examples\"]:\n",
        "        X.append(filter_text(phrase))\n",
        "        y.append(name)\n",
        "\n",
        "    for phrase in intent[\"responses\"]: # Для каждой фразы\n",
        "        X.append(filter_text(phrase)) # Добавляем текст в Х\n",
        "        y.append(name) # Добавляем намерение в y"
      ],
      "metadata": {
        "id": "daKg4LEeZncP"
      },
      "execution_count": null,
      "outputs": []
    },
    {
      "cell_type": "markdown",
      "source": [
        "# Векторизация текстов\n",
        "\n",
        "Текст превращаем в набор чисел (вектор)\n",
        "\n"
      ],
      "metadata": {
        "id": "7J13Z6ZTbSoL"
      }
    },
    {
      "cell_type": "markdown",
      "source": [
        "# Пример\n",
        "\n",
        "```\n",
        "1. Набор Текстов = {\n",
        "    \"мама мыла раму\",\n",
        "    \"мыла раму мама\",\n",
        "    \"раму мама мыла\"\n",
        "}\n",
        "\n",
        "2. Векторайзер (обучиться = изучить тексты)\n",
        "   мама=1 мыла=2 раму=3\n",
        "\n",
        "3. Векторизация\n",
        "    \"мама мыла раму\" = [1,2,3]\n",
        "    \"мыла раму мама\" = [2,3,1]\n",
        "    \"раму мама мыла\" = [3,1,2]\n",
        "```"
      ],
      "metadata": {
        "id": "E5lyVulobgwM"
      }
    },
    {
      "cell_type": "code",
      "source": [
        "from sklearn.feature_extraction.text import CountVectorizer\n",
        "\n",
        "vectorizer = CountVectorizer() # Настройки\n",
        "vectorizer.fit(X)  # Обучаем векторайзер\n",
        "\n",
        "vecX = vectorizer.transform(X) # Векторизируем тексты"
      ],
      "metadata": {
        "id": "c1cTlXCpc20y"
      },
      "execution_count": null,
      "outputs": []
    },
    {
      "cell_type": "code",
      "source": [
        "from sklearn.neural_network import MLPClassifier\n",
        "mlp = MLPClassifier() # Настройки\n",
        "mlp.fit(vecX, y)"
      ],
      "metadata": {
        "colab": {
          "base_uri": "https://localhost:8080/"
        },
        "id": "smXi5iXceKw7",
        "outputId": "5eaf65b1-47b8-48ab-8c2b-c5cfa12065d6"
      },
      "execution_count": null,
      "outputs": [
        {
          "output_type": "stream",
          "name": "stderr",
          "text": [
            "/usr/local/lib/python3.7/dist-packages/sklearn/neural_network/_multilayer_perceptron.py:696: ConvergenceWarning: Stochastic Optimizer: Maximum iterations (200) reached and the optimization hasn't converged yet.\n",
            "  ConvergenceWarning,\n"
          ]
        },
        {
          "output_type": "execute_result",
          "data": {
            "text/plain": [
              "MLPClassifier()"
            ]
          },
          "metadata": {},
          "execution_count": 7
        }
      ]
    },
    {
      "cell_type": "code",
      "source": [
        "# Предсказание\n",
        "mlp.predict(vectorizer.transform([\"Какая погода\"]))"
      ],
      "metadata": {
        "colab": {
          "base_uri": "https://localhost:8080/"
        },
        "id": "b7EXnO9xfGhu",
        "outputId": "e5133084-28bd-4092-81e4-d9f274de6fe4"
      },
      "execution_count": null,
      "outputs": [
        {
          "output_type": "execute_result",
          "data": {
            "text/plain": [
              "array(['weather'], dtype='<U29')"
            ]
          },
          "metadata": {},
          "execution_count": 49
        }
      ]
    },
    {
      "cell_type": "code",
      "source": [
        "mlp.score(vecX, y)\n",
        "\n",
        "# Тестовую и тренровочную"
      ],
      "metadata": {
        "colab": {
          "base_uri": "https://localhost:8080/"
        },
        "id": "oK_HChXRh57p",
        "outputId": "21b4e501-f41f-4da7-9118-f1eaf72410cb"
      },
      "execution_count": null,
      "outputs": [
        {
          "output_type": "execute_result",
          "data": {
            "text/plain": [
              "0.8641285365001746"
            ]
          },
          "metadata": {},
          "execution_count": 50
        }
      ]
    },
    {
      "cell_type": "code",
      "source": [
        "from sklearn.ensemble import RandomForestClassifier\n",
        "rfc = RandomForestClassifier()\n",
        "rfc.fit(vecX, y)\n",
        "rfc.score(vecX, y)"
      ],
      "metadata": {
        "colab": {
          "base_uri": "https://localhost:8080/"
        },
        "id": "fNsA0kqDildD",
        "outputId": "cd876e8d-0cda-4524-a1cd-61b954e1db05"
      },
      "execution_count": null,
      "outputs": [
        {
          "output_type": "execute_result",
          "data": {
            "text/plain": [
              "0.8643031784841075"
            ]
          },
          "metadata": {},
          "execution_count": 52
        }
      ]
    },
    {
      "cell_type": "code",
      "source": [
        "from sklearn.model_selection import train_test_split\n",
        "\n",
        "X_train, X_test, y_train, y_test = train_test_split(vecX, y, test_size=0.33)"
      ],
      "metadata": {
        "id": "MvIRtGPYjgMp"
      },
      "execution_count": null,
      "outputs": []
    },
    {
      "cell_type": "code",
      "source": [
        "from sklearn.ensemble import RandomForestClassifier\n",
        "rfc = RandomForestClassifier(n_estimators=400)\n",
        "rfc.fit(X_train, y_train) # Тренируем модель на тренировочной выборке\n",
        "rfc.score(X_test, y_test) # Тестируем модель на тестовой выборке"
      ],
      "metadata": {
        "colab": {
          "base_uri": "https://localhost:8080/"
        },
        "id": "bdkFwwJbkEIQ",
        "outputId": "9efd61c8-3624-46de-ef2d-91236d478bef"
      },
      "execution_count": null,
      "outputs": [
        {
          "output_type": "execute_result",
          "data": {
            "text/plain": [
              "0.15925925925925927"
            ]
          },
          "metadata": {},
          "execution_count": 70
        }
      ]
    },
    {
      "cell_type": "code",
      "source": [
        "def random_choice(options):\n",
        "    if len(options) == 0:\n",
        "        return \"ХЗ\"\n",
        "    else:\n",
        "        return random.choice(options)"
      ],
      "metadata": {
        "id": "NpX3scSynxwp"
      },
      "execution_count": null,
      "outputs": []
    },
    {
      "cell_type": "code",
      "source": [
        "def search_intent(text):\n",
        "    # Для каждого намерения в списке намерений\n",
        "    for intent in INTENTS:\n",
        "        examples = INTENTS[intent][\"examples\"]  # Получить список фраз\n",
        "        responses = INTENTS[intent][\"responses\"]  # Получить список ответов\n",
        "        # Каждый пример из examples сравниваем с текстом\n",
        "        for example in examples:\n",
        "            if text_match(text, example):\n",
        "                return random_choice(responses)"
      ],
      "metadata": {
        "id": "rFdFmq2KlPGH"
      },
      "execution_count": null,
      "outputs": []
    },
    {
      "cell_type": "code",
      "source": [
        "def machine_learning(text):\n",
        "    vec_text = vectorizer.transform([text])  # Векторизуем текст\n",
        "    intent = mlp.predict(vec_text)[0]  # Делаем предсказание\n",
        "    #[0] Потому что у нас один текст = один результат\n",
        "    responses = INTENTS[intent][\"responses\"]\n",
        "    return random_choice(responses)"
      ],
      "metadata": {
        "id": "j46IEzjfltXc"
      },
      "execution_count": null,
      "outputs": []
    },
    {
      "cell_type": "code",
      "source": [
        "def reply(text):\n",
        "    answer = search_intent(text)  # Пробуем найти ответ напрямую\n",
        "    if not answer: # Если ответа нет\n",
        "        answer = machine_learning(text) # Просим модель МО дать ответ\n",
        "    return answer\n",
        "    # print(f\"[BOT]: {answer}\")\n",
        "\n",
        "# question = \"\" \n",
        "# while question != \"пока\":\n",
        "#     print(\"[USER]: \", end='')\n",
        "#     question = filter_text(input())\n",
        "#     reply(question) # Просим бота ответить"
      ],
      "metadata": {
        "id": "mtC79G7Umxco"
      },
      "execution_count": null,
      "outputs": []
    },
    {
      "cell_type": "code",
      "source": [
        "reply(\"Угадай число\")"
      ],
      "metadata": {
        "colab": {
          "base_uri": "https://localhost:8080/",
          "height": 35
        },
        "id": "ghE6GGayl5TA",
        "outputId": "b59f689a-b20f-49e6-efc3-0660093688cb"
      },
      "execution_count": null,
      "outputs": [
        {
          "output_type": "execute_result",
          "data": {
            "text/plain": [
              "'1'"
            ],
            "application/vnd.google.colaboratory.intrinsic+json": {
              "type": "string"
            }
          },
          "metadata": {},
          "execution_count": 43
        }
      ]
    },
    {
      "cell_type": "code",
      "source": [
        "# ДЗ\n",
        "# Попробовать другие классификаторы\n",
        "# Попробовать другие настройки (можно даже GridSearch)\n",
        "# Попробовать другие векторайзеры (TfIDF, Hashing)\n"
      ],
      "metadata": {
        "id": "5UNfeXcOpAw_"
      },
      "execution_count": null,
      "outputs": []
    },
    {
      "cell_type": "markdown",
      "source": [
        "# День 3\n",
        "Бот в Телеграм\n",
        "\n",
        "Библиотека [python-telegram-bot](https://python-telegram-bot.org/)\n",
        "\n",
        "\n",
        "\n",
        "```\n",
        "pip install python-telegram-bot==13.13\n",
        "```\n",
        "\n"
      ],
      "metadata": {
        "id": "k6yG9WL_aHXl"
      }
    },
    {
      "cell_type": "code",
      "source": [
        "! pip install python-telegram-bot==13.13"
      ],
      "metadata": {
        "id": "9hPPDSAdTYco",
        "colab": {
          "base_uri": "https://localhost:8080/"
        },
        "outputId": "f705dc2f-6979-4f2a-ae31-bf412fb601f0"
      },
      "execution_count": null,
      "outputs": [
        {
          "output_type": "stream",
          "name": "stdout",
          "text": [
            "Looking in indexes: https://pypi.org/simple, https://us-python.pkg.dev/colab-wheels/public/simple/\n",
            "Requirement already satisfied: python-telegram-bot==13.13 in /usr/local/lib/python3.7/dist-packages (13.13)\n",
            "Requirement already satisfied: cachetools==4.2.2 in /usr/local/lib/python3.7/dist-packages (from python-telegram-bot==13.13) (4.2.2)\n",
            "Requirement already satisfied: pytz>=2018.6 in /usr/local/lib/python3.7/dist-packages (from python-telegram-bot==13.13) (2022.1)\n",
            "Requirement already satisfied: tornado>=6.1 in /usr/local/lib/python3.7/dist-packages (from python-telegram-bot==13.13) (6.2)\n",
            "Requirement already satisfied: APScheduler==3.6.3 in /usr/local/lib/python3.7/dist-packages (from python-telegram-bot==13.13) (3.6.3)\n",
            "Requirement already satisfied: certifi in /usr/local/lib/python3.7/dist-packages (from python-telegram-bot==13.13) (2022.6.15)\n",
            "Requirement already satisfied: tzlocal>=1.2 in /usr/local/lib/python3.7/dist-packages (from APScheduler==3.6.3->python-telegram-bot==13.13) (1.5.1)\n",
            "Requirement already satisfied: setuptools>=0.7 in /usr/local/lib/python3.7/dist-packages (from APScheduler==3.6.3->python-telegram-bot==13.13) (57.4.0)\n",
            "Requirement already satisfied: six>=1.4.0 in /usr/local/lib/python3.7/dist-packages (from APScheduler==3.6.3->python-telegram-bot==13.13) (1.15.0)\n"
          ]
        }
      ]
    },
    {
      "cell_type": "code",
      "source": [
        "from telegram.ext import Updater, MessageHandler, Filters\n",
        "# Updater - инструмент, который получает новую информацию (апдейты) с сервера ТГ\n",
        "# MessageHandler - обработчик сообщений\n",
        "\n",
        "# Token ?\n",
        "\n",
        "updater = Updater(TOKEN)\n",
        "\n",
        "# Эта функция будет вызываться на каждое входящее сообщение боту\n",
        "def telegram_bot(update, ctx):\n",
        "    user_text = update.message.text # Текст от пользователя\n",
        "    bot_answer = reply(user_text)  # Просим бота сформировать ответ\n",
        "    print(f\">{user_text}\\n<{bot_answer}\")\n",
        "    update.message.reply_text(bot_answer)\n",
        "\n",
        "# Обработчик, реагирует на текстовые сообщения и вызывает ф-ю telegram_bot\n",
        "handler = MessageHandler(Filters.text, telegram_bot)\n",
        "\n",
        "# Соединяем все вместе\n",
        "updater.dispatcher.add_handler(handler)\n",
        "\n",
        "# ЗАПУСК!\n",
        "updater.start_polling()\n",
        "updater.idle()"
      ],
      "metadata": {
        "colab": {
          "base_uri": "https://localhost:8080/"
        },
        "id": "oDC80BsYigMz",
        "outputId": "4a3fd001-734c-4eb4-b71b-98d391418019"
      },
      "execution_count": null,
      "outputs": [
        {
          "output_type": "stream",
          "name": "stdout",
          "text": [
            ">***\n",
            "<0\n",
            ">+++\n",
            "<0\n",
            ">—-\n",
            "<7\n",
            ">...\n",
            "<0\n",
            ">стой\n",
            "<Был только один выход, ибо наши жизни сплелись в слишком запутанный узел гнева и блаженства, чтобы решить всё как-нибудь иначе. Доверимся жребию: орёл — и мы поженимся, решка — и мы расстанемся навсегда. Монетка была подброшена. Она звякнула, завертелась и остановилась. Орёл. Мы уставились на неё с недоумением. Затем, в один голос, мы сказали: «Может, ещё разок?\n",
            ">+++\n",
            "<1\n",
            ">Когда мы порднились?\n",
            "<Хорошо\n",
            ">***\n",
            "<3\n",
            ">///\n",
            "<7\n",
            ">+++\n",
            "<5\n",
            ">***\n",
            "<6\n",
            ">///\n",
            "<2\n",
            ">поехали\n",
            "<Было что-то, но вот не вспомню сейчас\n",
            ">++++\n",
            "<6\n",
            ">/start\n",
            "<8\n",
            ">Ты хто?\n",
            "<Я бот\n",
            ">/start\n",
            "<6\n",
            ">/token\n",
            "<4\n",
            ">/start\n",
            "<3\n",
            ">hey\n",
            "<2\n",
            ">/start\n",
            "<4\n",
            ">ладно\n",
            "<ХЗ\n",
            ">хай\n",
            "<Ну приветики, родной!\n",
            ">ты жив?\n",
            "<Я тут\n",
            ">угадай кто я\n",
            "<Принято\n",
            ">принято?\n",
            "<Не знаю\n",
            ">Надежно ли работает твой код?\n",
            "<Пришел\n",
            ">Кто пришел?\n",
            "<Ничего\n",
            ">ghbdtn\n",
            "<Привет, всё хорошо?\n",
            ">Окей\n",
            "<Я рад\n",
            ">привет\n",
            "<доброго времени суток\n",
            ">почему ответы бота идут с большой задержкой???\n",
            "<Твой помощник тут\n",
            ">Ты испытываешь эмоции?\n",
            "<Пришел\n",
            ">как ты?\n",
            "<Я в депрессии\n",
            ">!!угу\n",
            "<Ок\n",
            ">ещё разок\n",
            "<Отлично\n",
            ">0000000000000000000000000000000000000000000000000000000000000000000000000000000000000000000000000000000000000000000000000000000000000000000000000000000000000000000000000000000000000000000000000000000000000000000000000000000000000000000000000000000000000000000000000000000000000000000000000000000000000000000000000000000000000000000000000000000000000000000000000000000000000000000000000000000000000000000000000000000000000000000000000000000000000000000000000000000000000000000000000000000000000000000000000000000000000000000000000000000000000000000000000000000000000000000000000000000000000000000000000000000000000000000000000000000000000000000000000000000000000000000000000000000000000000000000000000000000000000000000000000000000000000000000000000000000000000000000000000000000000000000000000000000000000000000000000000000000000000000000000000000000000000000000000000000000000000000000000000000000000000000000000000000000000000000000000000000000000000000000000000000000000000000000000000000000000000000000000000000000000000000000000000000000000000000000000000000000000000000000000000000000000000000000000000000000000000000000000000000000000000000000000000000000000000000000000000000000000000000000000000000000000000000000000000000000000000000000000000000000000000000000000000000000000000000000000000000000000000000000000000000000000000000000000000000000000000000000000000000000000000000000000000000000000000000000000000000000000000000000000000000000000000000000000000000000000000000000000000000000000000000000000000000000000000000000000000000000000000000000000000000000000000000000000000000000000000000000000000000000000000000000000000000000000000000000000000000000000000000000000000000000000000000000000000000000000000000000000000000000000000000000000000000000000000000000000000000000000000000000000000000000000000000000000000000000000000000000000000000000000000000000000000000000000000000000000000000000000000000000000000000000000000000000000000000000000000000000000000000000000000000000000000000000000000000000000000000000000000000000000000000000000000000000000000000000000000000000000000000000000000000000000000000000000000000000000000000000000000000000000000000000000000000000000000000000000000000000000000000000000000000000000000000000000000000000000000000000000000000000000000000000000000000000000000000000000000000000000000000000000000000000000000000000000000000000000000000000000000000000000000000000000000000000000000000000000000000000000000000000000000000000000000000000000000000000000000000000000000000000000000000000000000000000000000000000000000000000000000000000000000000000000000000000000000000000000000000000000000000000000000000000000000000000000000000000000000000000000000000000000000000000000000000000000000000000000000000000000000000000000000000000000000000000000000000000000000000000000000000000000000000000000000000000000000000000000000000000000000000000000000000000000000000000000000000000000000000000000000000000000000000000000000000000000000000000000000000000000000000000000000000000000000000000000000000000000000000000000000000000000000000000000000000000000000000000000000000000000000000000000000000000000000000000000000000000000000000000000000000000000000000000000000000000000000000000000000000000000000000000000000000000000000000000000000000000000000000000000000000000000000000000000000000000000000000000000000000000000000000000000000000000000000000000000000000000000000000000000000000000000000000000000000000000000000000000000000000000000000000000000000000000000000000000000000000000000000000000000000000000000000000000000000000000000000000000000000000000000000000000000000000000000000000000000000000000000000000000000000000000000000000000000000000000000000000000000000000000000000000000000000000000000000000000000000000000000000000000000000000000000000000000000000000000000000000000000000000000000000000000000000000000000000000000000000000000000000000000000000000000000000000000000000000000000000000000000000000000000000000000000000000000000000000000000000000000000000000000000000000000000000000000000000000000000000000000000000000000000000000000000000000000000000\n",
            "<0\n"
          ]
        }
      ]
    }
  ]
}